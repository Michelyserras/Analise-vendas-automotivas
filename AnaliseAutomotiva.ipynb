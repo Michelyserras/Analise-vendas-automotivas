{
 "cells": [
  {
   "cell_type": "markdown",
   "id": "441d7177",
   "metadata": {},
   "source": [
    "# **Análise dos Dados de Vendas Automotivas**\n",
    "##### **Feito por: Fernando Antonio e Michely Serras**."
   ]
  },
  {
   "cell_type": "markdown",
   "id": "8d572b72",
   "metadata": {},
   "source": [
    "[Clique aqui para acessar a base de dados](https://drive.google.com/file/d/1Wib1W8IBw5tLoVXtV5XQ4_KqRmGxCPgl/view?usp=drive_link)"
   ]
  },
  {
   "cell_type": "markdown",
   "id": "f2b75a7d",
   "metadata": {},
   "source": [
    "#### ***Descrição Geral da base de dados***"
   ]
  },
  {
   "cell_type": "markdown",
   "id": "8db0c0f1",
   "metadata": {},
   "source": [
    "#### ***Dicionário de Dados***\n",
    "\n",
    "- *orderNumber*: Numero de identificação do pedido.\n",
    "- *QuantityOrdered*: Quantidade de itens solicitados.\n",
    "- *PriceEach*: Preço unitário de cada item.\n",
    "- *OrderLineNumber*: Número da linha dentro do pedido.\n",
    "- *Sales*: Total da venda (quantidade x preço).\n",
    "- *OrderDate*: Data do pedido.\n",
    "- *Days_Since_LastOrder*: Dias desde o ultimo pedido do cliente.\n",
    "- *Status*: Status do pedido (ex: Enviado, Em Processamento, Cancelado).\n",
    "- *ProductLine*: Categoria do produto.\n",
    "- *MSRP*: Preço sugerido pelo fabricante.\n",
    "- *CustomerName*: Nome do cliente.\n",
    "- *Phone*: Telefone de contato do Cliente.\n",
    "- *Addressline1*: Endereço do cliente.\n",
    "- *City*: Cidade do cliente.\n",
    "- *Postalcode*: Código posral do cliente.\n",
    "- *Country*: País do cliente.\n",
    "- *ContactFirstName*: Nome do Contato.\n",
    "- *Dealsize*: Tamanho do pedido (Pequeno, Médio, Grande).\n",
    "\n",
    "\n",
    "\n"
   ]
  },
  {
   "cell_type": "markdown",
   "id": "9af58d09",
   "metadata": {},
   "source": []
  }
 ],
 "metadata": {
  "kernelspec": {
   "display_name": "Python 3",
   "language": "python",
   "name": "python3"
  },
  "language_info": {
   "codemirror_mode": {
    "name": "ipython",
    "version": 3
   },
   "file_extension": ".py",
   "mimetype": "text/x-python",
   "name": "python",
   "nbconvert_exporter": "python",
   "pygments_lexer": "ipython3",
   "version": "3.12.3"
  }
 },
 "nbformat": 4,
 "nbformat_minor": 5
}
